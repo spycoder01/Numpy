{
  "nbformat": 4,
  "nbformat_minor": 0,
  "metadata": {
    "colab": {
      "provenance": [],
      "authorship_tag": "ABX9TyPhw47GyhykJeb60m3bT/fw",
      "include_colab_link": true
    },
    "kernelspec": {
      "name": "python3",
      "display_name": "Python 3"
    },
    "language_info": {
      "name": "python"
    }
  },
  "cells": [
    {
      "cell_type": "markdown",
      "metadata": {
        "id": "view-in-github",
        "colab_type": "text"
      },
      "source": [
        "<a href=\"https://colab.research.google.com/github/spycoder01/Numpy/blob/main/Numpy_tricks.ipynb\" target=\"_parent\"><img src=\"https://colab.research.google.com/assets/colab-badge.svg\" alt=\"Open In Colab\"/></a>"
      ]
    },
    {
      "cell_type": "markdown",
      "source": [
        "np.sort"
      ],
      "metadata": {
        "id": "xF3-32kiN0uF"
      }
    },
    {
      "cell_type": "code",
      "execution_count": 4,
      "metadata": {
        "id": "t6g7NAmFNPIN",
        "colab": {
          "base_uri": "https://localhost:8080/"
        },
        "outputId": "ce2a5c09-e7b9-4328-b9d4-93c36ac774aa"
      },
      "outputs": [
        {
          "output_type": "execute_result",
          "data": {
            "text/plain": [
              "array([53, 22, 19, 43,  6, 62, 14, 96, 57, 17, 43, 11, 60, 64, 81])"
            ]
          },
          "metadata": {},
          "execution_count": 4
        }
      ],
      "source": [
        "import numpy as np\n",
        "a = np.random.randint(1,100,15)\n",
        "a"
      ]
    },
    {
      "cell_type": "code",
      "source": [
        "np.sort(a) #sorting into accending order\n",
        "\n",
        "np.sort(a)[::-1] #sorting into decending order"
      ],
      "metadata": {
        "colab": {
          "base_uri": "https://localhost:8080/"
        },
        "id": "pu7yogAGOIZ_",
        "outputId": "d5ef18f2-17b8-477c-d9ce-b69036e35958"
      },
      "execution_count": null,
      "outputs": [
        {
          "output_type": "execute_result",
          "data": {
            "text/plain": [
              "array([94, 91, 91, 87, 77, 63, 55, 42, 42, 40, 29, 27, 24, 19,  7])"
            ]
          },
          "metadata": {},
          "execution_count": 28
        }
      ]
    },
    {
      "cell_type": "markdown",
      "source": [
        "For 2D Array"
      ],
      "metadata": {
        "id": "VEa6EOpLPcrp"
      }
    },
    {
      "cell_type": "code",
      "source": [
        "b = np.random.randint(1,100,12).reshape(3,4)\n",
        "b"
      ],
      "metadata": {
        "colab": {
          "base_uri": "https://localhost:8080/"
        },
        "id": "_T9rC9e5PiBe",
        "outputId": "3fe8d15d-6635-4e94-a020-c3ac62425cf4"
      },
      "execution_count": null,
      "outputs": [
        {
          "output_type": "execute_result",
          "data": {
            "text/plain": [
              "array([[88, 27,  6, 19],\n",
              "       [20, 38, 19, 62],\n",
              "       [68, 76, 40, 55]])"
            ]
          },
          "metadata": {},
          "execution_count": 18
        }
      ]
    },
    {
      "cell_type": "code",
      "source": [
        "np.sort(b) # row wise sorting"
      ],
      "metadata": {
        "colab": {
          "base_uri": "https://localhost:8080/"
        },
        "id": "5p78bzZYP07P",
        "outputId": "06824df4-d883-40eb-abb3-edc2642458cc"
      },
      "execution_count": null,
      "outputs": [
        {
          "output_type": "execute_result",
          "data": {
            "text/plain": [
              "array([[ 6, 19, 27, 88],\n",
              "       [19, 20, 38, 62],\n",
              "       [40, 55, 68, 76]])"
            ]
          },
          "metadata": {},
          "execution_count": 26
        }
      ]
    },
    {
      "cell_type": "code",
      "source": [
        "np.sort(b, axis = 0) # Column wise sorting"
      ],
      "metadata": {
        "colab": {
          "base_uri": "https://localhost:8080/"
        },
        "id": "Dc_VxWsJQjGb",
        "outputId": "29759c90-f76a-4f9d-9cf5-218065df04b3"
      },
      "execution_count": null,
      "outputs": [
        {
          "output_type": "execute_result",
          "data": {
            "text/plain": [
              "array([[20, 27,  6, 19],\n",
              "       [68, 38, 19, 55],\n",
              "       [88, 76, 40, 62]])"
            ]
          },
          "metadata": {},
          "execution_count": 27
        }
      ]
    },
    {
      "cell_type": "markdown",
      "source": [
        "np.concatenate"
      ],
      "metadata": {
        "id": "xZb7YAQpXAL9"
      }
    },
    {
      "cell_type": "code",
      "source": [
        "c = np.arange(6).reshape(2,3)\n",
        "d = np.arange(6,12).reshape(2,3)\n",
        "\n",
        "print(c)\n",
        "print(d)"
      ],
      "metadata": {
        "colab": {
          "base_uri": "https://localhost:8080/"
        },
        "id": "9mgAoXEyROlG",
        "outputId": "02e53b8a-e52d-4e41-da25-ebd3d1ba6ba6"
      },
      "execution_count": null,
      "outputs": [
        {
          "output_type": "stream",
          "name": "stdout",
          "text": [
            "[[0 1 2]\n",
            " [3 4 5]]\n",
            "[[ 6  7  8]\n",
            " [ 9 10 11]]\n"
          ]
        }
      ]
    },
    {
      "cell_type": "code",
      "source": [
        "np.concatenate((c,d)) # row wise concatenation"
      ],
      "metadata": {
        "colab": {
          "base_uri": "https://localhost:8080/"
        },
        "id": "z011eilWXfHi",
        "outputId": "56f9dea9-b9f7-4723-f42a-f1c5917f3a1b"
      },
      "execution_count": null,
      "outputs": [
        {
          "output_type": "execute_result",
          "data": {
            "text/plain": [
              "array([[ 0,  1,  2],\n",
              "       [ 3,  4,  5],\n",
              "       [ 6,  7,  8],\n",
              "       [ 9, 10, 11]])"
            ]
          },
          "metadata": {},
          "execution_count": 32
        }
      ]
    },
    {
      "cell_type": "code",
      "source": [
        "np.concatenate((c,d), axis = 1) # column wise concatenation"
      ],
      "metadata": {
        "colab": {
          "base_uri": "https://localhost:8080/"
        },
        "id": "JslgiptzXob3",
        "outputId": "9aa34907-ed58-4f9c-d3bd-94a29a720d76"
      },
      "execution_count": null,
      "outputs": [
        {
          "output_type": "execute_result",
          "data": {
            "text/plain": [
              "array([[ 0,  1,  2,  6,  7,  8],\n",
              "       [ 3,  4,  5,  9, 10, 11]])"
            ]
          },
          "metadata": {},
          "execution_count": 33
        }
      ]
    },
    {
      "cell_type": "markdown",
      "source": [
        "np.unique"
      ],
      "metadata": {
        "id": "VSyOuQBpYQuZ"
      }
    },
    {
      "cell_type": "code",
      "source": [
        "e = np.array([1,1,2,2,3,3,4,5,6,6])\n",
        "e"
      ],
      "metadata": {
        "colab": {
          "base_uri": "https://localhost:8080/"
        },
        "id": "WP8O8u1EYTeD",
        "outputId": "1ede0391-3b11-451f-b2de-5dd8fc98efa3"
      },
      "execution_count": null,
      "outputs": [
        {
          "output_type": "execute_result",
          "data": {
            "text/plain": [
              "array([1, 1, 2, 2, 3, 3, 4, 5, 6, 6])"
            ]
          },
          "metadata": {},
          "execution_count": 37
        }
      ]
    },
    {
      "cell_type": "code",
      "source": [
        "np.unique(e)"
      ],
      "metadata": {
        "colab": {
          "base_uri": "https://localhost:8080/"
        },
        "id": "zHdslLYNYbd8",
        "outputId": "db4cf8ae-fa6e-495f-dde0-406f82b443f1"
      },
      "execution_count": null,
      "outputs": [
        {
          "output_type": "execute_result",
          "data": {
            "text/plain": [
              "array([1, 2, 3, 4, 5, 6])"
            ]
          },
          "metadata": {},
          "execution_count": 40
        }
      ]
    },
    {
      "cell_type": "markdown",
      "source": [
        "np.expand_dims -\n",
        "with the help of np.expand_dims() method, we can get the expanded dimensions of an array."
      ],
      "metadata": {
        "id": "fXJGQnyUYvEd"
      }
    },
    {
      "cell_type": "code",
      "source": [
        "print(a)"
      ],
      "metadata": {
        "colab": {
          "base_uri": "https://localhost:8080/"
        },
        "id": "-E4P_cspadQB",
        "outputId": "56949b2b-e865-4bf7-c0c5-16163bc23d5b"
      },
      "execution_count": null,
      "outputs": [
        {
          "output_type": "stream",
          "name": "stdout",
          "text": [
            "[77 29 24 91 55 27  7 40 63 42 87 19 91 42 94]\n"
          ]
        }
      ]
    },
    {
      "cell_type": "code",
      "source": [
        "a.shape"
      ],
      "metadata": {
        "colab": {
          "base_uri": "https://localhost:8080/"
        },
        "id": "PF4Z9wxHYyNB",
        "outputId": "f5442c0b-a425-42de-fb72-cfde9e5cf206"
      },
      "execution_count": null,
      "outputs": [
        {
          "output_type": "execute_result",
          "data": {
            "text/plain": [
              "(15,)"
            ]
          },
          "metadata": {},
          "execution_count": 46
        }
      ]
    },
    {
      "cell_type": "code",
      "source": [
        "np.expand_dims(a, axis = 0).shape"
      ],
      "metadata": {
        "colab": {
          "base_uri": "https://localhost:8080/"
        },
        "id": "d2Rmx3foaNqi",
        "outputId": "732f3200-e7dd-4f4d-d121-21f6c0fac98b"
      },
      "execution_count": null,
      "outputs": [
        {
          "output_type": "execute_result",
          "data": {
            "text/plain": [
              "(1, 15)"
            ]
          },
          "metadata": {},
          "execution_count": 45
        }
      ]
    },
    {
      "cell_type": "markdown",
      "source": [
        "np.where - To find the indices of elements which satisfy the given condition"
      ],
      "metadata": {
        "id": "BBGBujPubDF-"
      }
    },
    {
      "cell_type": "code",
      "source": [
        "print(a)"
      ],
      "metadata": {
        "colab": {
          "base_uri": "https://localhost:8080/"
        },
        "id": "ue2Zmd4sbH1H",
        "outputId": "e6197ee7-28dd-404d-cdf4-887e0f286f41"
      },
      "execution_count": null,
      "outputs": [
        {
          "output_type": "stream",
          "name": "stdout",
          "text": [
            "[77 29 24 91 55 27  7 40 63 42 87 19 91 42 94]\n"
          ]
        }
      ]
    },
    {
      "cell_type": "code",
      "source": [
        "np.where(a>50)"
      ],
      "metadata": {
        "colab": {
          "base_uri": "https://localhost:8080/"
        },
        "id": "rYQzPHOnbKR5",
        "outputId": "bee238cb-3d50-4693-9817-f4404d65fb5e"
      },
      "execution_count": null,
      "outputs": [
        {
          "output_type": "execute_result",
          "data": {
            "text/plain": [
              "(array([ 0,  3,  4,  8, 10, 12, 14]),)"
            ]
          },
          "metadata": {},
          "execution_count": 50
        }
      ]
    },
    {
      "cell_type": "markdown",
      "source": [
        "replace all value > 50 with 0"
      ],
      "metadata": {
        "id": "klz12UoEcAbr"
      }
    },
    {
      "cell_type": "code",
      "source": [
        "np.where(a>50,0,a)"
      ],
      "metadata": {
        "colab": {
          "base_uri": "https://localhost:8080/"
        },
        "id": "uV3BvhYhcHle",
        "outputId": "ad8aa86a-1fed-4342-fdcd-53a17408ad23"
      },
      "execution_count": null,
      "outputs": [
        {
          "output_type": "execute_result",
          "data": {
            "text/plain": [
              "array([ 0, 29, 24,  0,  0, 27,  7, 40,  0, 42,  0, 19,  0, 42,  0])"
            ]
          },
          "metadata": {},
          "execution_count": 51
        }
      ]
    },
    {
      "cell_type": "code",
      "source": [
        "#replace all even numbers with 0\n",
        "np.where(a%2 == 0,0,a)"
      ],
      "metadata": {
        "colab": {
          "base_uri": "https://localhost:8080/"
        },
        "id": "7yqpWFWmcz69",
        "outputId": "8c7f4e8c-110c-4dff-e0f6-f28a08486dd1"
      },
      "execution_count": null,
      "outputs": [
        {
          "output_type": "execute_result",
          "data": {
            "text/plain": [
              "array([77, 29,  0, 91, 55, 27,  7,  0, 63,  0, 87, 19, 91,  0,  0])"
            ]
          },
          "metadata": {},
          "execution_count": 54
        }
      ]
    },
    {
      "cell_type": "markdown",
      "source": [
        "np.argmax - The numpy.argmax() function returns indices of the max element of the array in a particular axis"
      ],
      "metadata": {
        "id": "cGXsICbBdIwS"
      }
    },
    {
      "cell_type": "code",
      "source": [
        "x = np.random.randint(1,20,10)\n",
        "print(x)\n",
        "np.argmin(x)"
      ],
      "metadata": {
        "colab": {
          "base_uri": "https://localhost:8080/"
        },
        "id": "YYT7JBPOdL3l",
        "outputId": "18c6ceb4-fbd2-42da-f3ce-8367b0654e36"
      },
      "execution_count": 5,
      "outputs": [
        {
          "output_type": "stream",
          "name": "stdout",
          "text": [
            "[ 7  7  7  4 11  8  3 12  1 10]\n"
          ]
        },
        {
          "output_type": "execute_result",
          "data": {
            "text/plain": [
              "np.int64(8)"
            ]
          },
          "metadata": {},
          "execution_count": 5
        }
      ]
    },
    {
      "cell_type": "markdown",
      "source": [
        "np.cumsum"
      ],
      "metadata": {
        "id": "ftmnJBtH3nJC"
      }
    },
    {
      "cell_type": "code",
      "source": [
        "x\n",
        "np.cumsum(x)"
      ],
      "metadata": {
        "colab": {
          "base_uri": "https://localhost:8080/"
        },
        "id": "5upghsiJ3o97",
        "outputId": "3ef447c5-6333-4842-dc0a-9e588a6a4948"
      },
      "execution_count": 8,
      "outputs": [
        {
          "output_type": "execute_result",
          "data": {
            "text/plain": [
              "array([ 7, 14, 21, 25, 36, 44, 47, 59, 60, 70])"
            ]
          },
          "metadata": {},
          "execution_count": 8
        }
      ]
    },
    {
      "cell_type": "code",
      "source": [
        "np.cumprod(x)"
      ],
      "metadata": {
        "colab": {
          "base_uri": "https://localhost:8080/"
        },
        "id": "qJ8AwgUC5V0K",
        "outputId": "721abf3c-60d7-4313-83c6-81d5fccc47b0"
      },
      "execution_count": 10,
      "outputs": [
        {
          "output_type": "execute_result",
          "data": {
            "text/plain": [
              "array([       7,       49,      343,     1372,    15092,   120736,\n",
              "         362208,  4346496,  4346496, 43464960])"
            ]
          },
          "metadata": {},
          "execution_count": 10
        }
      ]
    },
    {
      "cell_type": "code",
      "source": [
        "y = np.arange(12).reshape(3,4)\n",
        "print(y)\n",
        "np.cumsum(y, axis = 1)"
      ],
      "metadata": {
        "colab": {
          "base_uri": "https://localhost:8080/"
        },
        "id": "6nDI39DI5dIb",
        "outputId": "cec64968-1958-43e5-dd6c-7c14c0b6daf8"
      },
      "execution_count": 17,
      "outputs": [
        {
          "output_type": "stream",
          "name": "stdout",
          "text": [
            "[[ 0  1  2  3]\n",
            " [ 4  5  6  7]\n",
            " [ 8  9 10 11]]\n"
          ]
        },
        {
          "output_type": "execute_result",
          "data": {
            "text/plain": [
              "array([[ 0,  1,  3,  6],\n",
              "       [ 4,  9, 15, 22],\n",
              "       [ 8, 17, 27, 38]])"
            ]
          },
          "metadata": {},
          "execution_count": 17
        }
      ]
    },
    {
      "cell_type": "markdown",
      "source": [
        "np.percentile"
      ],
      "metadata": {
        "id": "tHiEExPz6RqM"
      }
    },
    {
      "cell_type": "code",
      "source": [
        "print(x)\n",
        "np.percentile(x,100)"
      ],
      "metadata": {
        "colab": {
          "base_uri": "https://localhost:8080/"
        },
        "id": "Fax0U3HV6Pgq",
        "outputId": "d0634a7a-ee87-4010-adf0-f11c765daa63"
      },
      "execution_count": 25,
      "outputs": [
        {
          "output_type": "stream",
          "name": "stdout",
          "text": [
            "[ 7  7  7  4 11  8  3 12  1 10]\n"
          ]
        },
        {
          "output_type": "execute_result",
          "data": {
            "text/plain": [
              "np.float64(12.0)"
            ]
          },
          "metadata": {},
          "execution_count": 25
        }
      ]
    },
    {
      "cell_type": "markdown",
      "source": [
        "np.histogram"
      ],
      "metadata": {
        "id": "gjjeixX_6wTK"
      }
    },
    {
      "cell_type": "code",
      "source": [
        "np.histogram(x, bins=[0,5,10,15,20])"
      ],
      "metadata": {
        "colab": {
          "base_uri": "https://localhost:8080/"
        },
        "id": "pGc9P0It6Wo3",
        "outputId": "a5dd934d-9dad-449e-e040-d2e8173d4b4c"
      },
      "execution_count": 31,
      "outputs": [
        {
          "output_type": "execute_result",
          "data": {
            "text/plain": [
              "(array([3, 4, 3, 0]), array([ 0,  5, 10, 15, 20]))"
            ]
          },
          "metadata": {},
          "execution_count": 31
        }
      ]
    },
    {
      "cell_type": "markdown",
      "source": [
        "np.corrcoef"
      ],
      "metadata": {
        "id": "LQPV5eHY_XZK"
      }
    },
    {
      "cell_type": "code",
      "source": [
        "salary = np.array([20000,40000,25000,35000,60000])\n",
        "experience = np.array([1,2,3,4,5])\n",
        "np.corrcoef(salary,experience)"
      ],
      "metadata": {
        "colab": {
          "base_uri": "https://localhost:8080/"
        },
        "id": "5FtvR5Jw8BJW",
        "outputId": "dfb7bcab-7f00-4f61-89ee-a402312c92a2"
      },
      "execution_count": 35,
      "outputs": [
        {
          "output_type": "execute_result",
          "data": {
            "text/plain": [
              "array([[1.        , 0.76150962],\n",
              "       [0.76150962, 1.        ]])"
            ]
          },
          "metadata": {},
          "execution_count": 35
        }
      ]
    },
    {
      "cell_type": "markdown",
      "source": [
        "np.isin"
      ],
      "metadata": {
        "id": "W9CnsvpZAPyi"
      }
    },
    {
      "cell_type": "code",
      "source": [
        "z = np.arange(10)\n",
        "print(z)\n",
        "items = [3,6,7]\n",
        "np.isin(z,items)"
      ],
      "metadata": {
        "colab": {
          "base_uri": "https://localhost:8080/"
        },
        "id": "-wY-K_fuAR76",
        "outputId": "b8d7ca01-8b85-4773-d0c5-eb0522880653"
      },
      "execution_count": 56,
      "outputs": [
        {
          "output_type": "stream",
          "name": "stdout",
          "text": [
            "[0 1 2 3 4 5 6 7 8 9]\n"
          ]
        },
        {
          "output_type": "execute_result",
          "data": {
            "text/plain": [
              "array([False, False, False,  True, False, False,  True,  True, False,\n",
              "       False])"
            ]
          },
          "metadata": {},
          "execution_count": 56
        }
      ]
    },
    {
      "cell_type": "markdown",
      "source": [
        "np.flip"
      ],
      "metadata": {
        "id": "AcqoQQSXB7I_"
      }
    },
    {
      "cell_type": "code",
      "source": [
        "print(z)\n",
        "np.flip(z)"
      ],
      "metadata": {
        "colab": {
          "base_uri": "https://localhost:8080/"
        },
        "id": "fyoPPb8SB-Mf",
        "outputId": "f7d5e517-2e3c-44fd-89e5-fc879547a685"
      },
      "execution_count": 57,
      "outputs": [
        {
          "output_type": "stream",
          "name": "stdout",
          "text": [
            "[0 1 2 3 4 5 6 7 8 9]\n"
          ]
        },
        {
          "output_type": "execute_result",
          "data": {
            "text/plain": [
              "array([9, 8, 7, 6, 5, 4, 3, 2, 1, 0])"
            ]
          },
          "metadata": {},
          "execution_count": 57
        }
      ]
    },
    {
      "cell_type": "code",
      "source": [
        "print(y)\n",
        "np.flip(y, axis = 1) #axis = 1 -> row wise fliping"
      ],
      "metadata": {
        "colab": {
          "base_uri": "https://localhost:8080/"
        },
        "id": "_FGJuFG1CMd0",
        "outputId": "46f35d39-6e66-46ae-960c-4f434fb21d29"
      },
      "execution_count": 49,
      "outputs": [
        {
          "output_type": "stream",
          "name": "stdout",
          "text": [
            "[[ 0  1  2  3]\n",
            " [ 4  5  6  7]\n",
            " [ 8  9 10 11]]\n"
          ]
        },
        {
          "output_type": "execute_result",
          "data": {
            "text/plain": [
              "array([[ 3,  2,  1,  0],\n",
              "       [ 7,  6,  5,  4],\n",
              "       [11, 10,  9,  8]])"
            ]
          },
          "metadata": {},
          "execution_count": 49
        }
      ]
    },
    {
      "cell_type": "markdown",
      "source": [
        "np.put"
      ],
      "metadata": {
        "id": "FXy4KKY5Dbpq"
      }
    },
    {
      "cell_type": "code",
      "source": [
        "print(a)\n",
        "np.put(a,[0,1],[530,220]) # Its permanentely changes the specific index with the given values."
      ],
      "metadata": {
        "colab": {
          "base_uri": "https://localhost:8080/"
        },
        "id": "PLCjzf0LDdR0",
        "outputId": "8241db0d-dd6d-4f74-f454-78429acdd83a"
      },
      "execution_count": 54,
      "outputs": [
        {
          "output_type": "execute_result",
          "data": {
            "text/plain": [
              "array([530, 220,  19,  43,   6,  62,  14,  96,  57,  17,  43,  11,  60,\n",
              "        64,  81])"
            ]
          },
          "metadata": {},
          "execution_count": 54
        }
      ]
    },
    {
      "cell_type": "code",
      "source": [
        "# To delete the particular index value\n",
        "np.delete(a,[0,1])"
      ],
      "metadata": {
        "colab": {
          "base_uri": "https://localhost:8080/"
        },
        "id": "jX2y9HczEA5N",
        "outputId": "47149ada-33b4-4bb3-aa13-af64477dc20e"
      },
      "execution_count": 55,
      "outputs": [
        {
          "output_type": "execute_result",
          "data": {
            "text/plain": [
              "array([19, 43,  6, 62, 14, 96, 57, 17, 43, 11, 60, 64, 81])"
            ]
          },
          "metadata": {},
          "execution_count": 55
        }
      ]
    },
    {
      "cell_type": "markdown",
      "source": [
        "Sets functions"
      ],
      "metadata": {
        "id": "Oik5RNMxGzev"
      }
    },
    {
      "cell_type": "code",
      "source": [
        "m = np.array([1,2,3,4,5])\n",
        "n = np.array([3,4,5,6,7])\n",
        "print(m)\n",
        "print(n)"
      ],
      "metadata": {
        "colab": {
          "base_uri": "https://localhost:8080/"
        },
        "id": "1kMuih7GGySW",
        "outputId": "21882749-29fb-4c06-b3ca-6ee8201ddfe7"
      },
      "execution_count": 58,
      "outputs": [
        {
          "output_type": "stream",
          "name": "stdout",
          "text": [
            "[1 2 3 4 5]\n",
            "[3 4 5 6 7]\n"
          ]
        }
      ]
    },
    {
      "cell_type": "code",
      "source": [
        "np.union1d(m,n)"
      ],
      "metadata": {
        "colab": {
          "base_uri": "https://localhost:8080/"
        },
        "id": "UhIBvaPJHgow",
        "outputId": "22205dc6-d513-4943-899d-f8b18c17b887"
      },
      "execution_count": 60,
      "outputs": [
        {
          "output_type": "execute_result",
          "data": {
            "text/plain": [
              "array([1, 2, 3, 4, 5, 6, 7])"
            ]
          },
          "metadata": {},
          "execution_count": 60
        }
      ]
    },
    {
      "cell_type": "code",
      "source": [
        "np.intersect1d(m,n)"
      ],
      "metadata": {
        "colab": {
          "base_uri": "https://localhost:8080/"
        },
        "id": "XCWefy9aHnhj",
        "outputId": "773d5b33-436d-4fde-a3ee-39249190258b"
      },
      "execution_count": 61,
      "outputs": [
        {
          "output_type": "execute_result",
          "data": {
            "text/plain": [
              "array([3, 4, 5])"
            ]
          },
          "metadata": {},
          "execution_count": 61
        }
      ]
    },
    {
      "cell_type": "code",
      "source": [
        "np.setdiff1d(m,n)"
      ],
      "metadata": {
        "colab": {
          "base_uri": "https://localhost:8080/"
        },
        "id": "Gg0YMGvzHr4p",
        "outputId": "1634b5bf-8eee-49e8-da48-5c3f3216fdba"
      },
      "execution_count": 63,
      "outputs": [
        {
          "output_type": "execute_result",
          "data": {
            "text/plain": [
              "array([1, 2])"
            ]
          },
          "metadata": {},
          "execution_count": 63
        }
      ]
    },
    {
      "cell_type": "code",
      "source": [
        "np.setxor1d(m,n)"
      ],
      "metadata": {
        "colab": {
          "base_uri": "https://localhost:8080/"
        },
        "id": "rXqWmC3QICAr",
        "outputId": "f548d33d-87c7-4054-876f-61207b6248a5"
      },
      "execution_count": 64,
      "outputs": [
        {
          "output_type": "execute_result",
          "data": {
            "text/plain": [
              "array([1, 2, 6, 7])"
            ]
          },
          "metadata": {},
          "execution_count": 64
        }
      ]
    },
    {
      "cell_type": "code",
      "source": [
        "np.in1d(m,1)"
      ],
      "metadata": {
        "colab": {
          "base_uri": "https://localhost:8080/"
        },
        "id": "ZittjDaaIW3l",
        "outputId": "e98cc5ff-7de6-4d42-d67e-de45561d1efa"
      },
      "execution_count": 68,
      "outputs": [
        {
          "output_type": "stream",
          "name": "stderr",
          "text": [
            "<ipython-input-68-4dde4c85d026>:1: DeprecationWarning: `in1d` is deprecated. Use `np.isin` instead.\n",
            "  np.in1d(m,1)\n"
          ]
        },
        {
          "output_type": "execute_result",
          "data": {
            "text/plain": [
              "array([ True, False, False, False, False])"
            ]
          },
          "metadata": {},
          "execution_count": 68
        }
      ]
    },
    {
      "cell_type": "markdown",
      "source": [
        "np.clip"
      ],
      "metadata": {
        "id": "vQB82OAkJFnG"
      }
    },
    {
      "cell_type": "code",
      "source": [
        "print(a)\n",
        "np.clip(a,a_min = 25, a_max = 75) #Clip the numbers between 25 and 75"
      ],
      "metadata": {
        "colab": {
          "base_uri": "https://localhost:8080/"
        },
        "id": "XfcCpX9EJHbZ",
        "outputId": "c7cbbe02-ca93-425f-96e7-db48ab62154b"
      },
      "execution_count": 71,
      "outputs": [
        {
          "output_type": "stream",
          "name": "stdout",
          "text": [
            "[530 220  19  43   6  62  14  96  57  17  43  11  60  64  81]\n"
          ]
        },
        {
          "output_type": "execute_result",
          "data": {
            "text/plain": [
              "array([75, 75, 25, 43, 25, 62, 25, 75, 57, 25, 43, 25, 60, 64, 75])"
            ]
          },
          "metadata": {},
          "execution_count": 71
        }
      ]
    }
  ]
}